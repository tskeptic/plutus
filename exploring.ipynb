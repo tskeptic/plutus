{
 "cells": [
  {
   "cell_type": "code",
   "execution_count": 1,
   "id": "a58d4b9f",
   "metadata": {},
   "outputs": [],
   "source": [
    "%load_ext autoreload\n",
    "%autoreload 2"
   ]
  },
  {
   "cell_type": "markdown",
   "id": "8aba3f0b",
   "metadata": {},
   "source": [
    "-----"
   ]
  },
  {
   "cell_type": "markdown",
   "id": "c060366a",
   "metadata": {},
   "source": [
    "-----"
   ]
  },
  {
   "cell_type": "markdown",
   "id": "916697e8",
   "metadata": {},
   "source": [
    "-----"
   ]
  },
  {
   "cell_type": "code",
   "execution_count": 2,
   "id": "fb90e117",
   "metadata": {},
   "outputs": [],
   "source": [
    "# local\n",
    "import gatherer"
   ]
  },
  {
   "cell_type": "code",
   "execution_count": 3,
   "id": "e432cc9c",
   "metadata": {},
   "outputs": [
    {
     "data": {
      "text/plain": [
       "['MATICBRL', 'ETHBRL']"
      ]
     },
     "execution_count": 3,
     "metadata": {},
     "output_type": "execute_result"
    }
   ],
   "source": [
    "# list of tickers/trading-pairs to obtain data\n",
    "# TODO: collect from data file or transactions or something\n",
    "pairs_to_follow = ['MATICBRL', 'ETHBRL']\n",
    "pairs_to_follow"
   ]
  },
  {
   "cell_type": "code",
   "execution_count": 4,
   "id": "006b148d",
   "metadata": {},
   "outputs": [
    {
     "name": "stdout",
     "output_type": "stream",
     "text": [
      "obtaining data for MATICBRL\n"
     ]
    },
    {
     "name": "stderr",
     "output_type": "stream",
     "text": [
      "100%|███████████████████████████████████| 1/1 [00:09<00:00,  9.11s/it]\n"
     ]
    },
    {
     "name": "stdout",
     "output_type": "stream",
     "text": [
      "1 new rows of data obtained, 0 operations failed \n",
      "obtaining data for ETHBRL\n"
     ]
    },
    {
     "name": "stderr",
     "output_type": "stream",
     "text": [
      "100%|███████████████████████████████████| 1/1 [00:01<00:00,  1.10s/it]"
     ]
    },
    {
     "name": "stdout",
     "output_type": "stream",
     "text": [
      "1 new rows of data obtained, 0 operations failed \n"
     ]
    },
    {
     "name": "stderr",
     "output_type": "stream",
     "text": [
      "\n"
     ]
    }
   ],
   "source": [
    "# obtaining/updating data\n",
    "for target_pair in pairs_to_follow:\n",
    "    print(f'obtaining data for {target_pair}')\n",
    "    gatherer.update_ticker_data(target_pair)"
   ]
  },
  {
   "cell_type": "markdown",
   "id": "4b7a6f0b",
   "metadata": {},
   "source": [
    "-----"
   ]
  },
  {
   "cell_type": "markdown",
   "id": "7f1b84a2",
   "metadata": {},
   "source": [
    "-----"
   ]
  },
  {
   "cell_type": "markdown",
   "id": "6effff20",
   "metadata": {},
   "source": [
    "-----"
   ]
  },
  {
   "cell_type": "code",
   "execution_count": 5,
   "id": "295a8d7f",
   "metadata": {},
   "outputs": [],
   "source": [
    "import transactions"
   ]
  },
  {
   "cell_type": "code",
   "execution_count": 6,
   "id": "8fe5eebb",
   "metadata": {},
   "outputs": [
    {
     "name": "stdout",
     "output_type": "stream",
     "text": [
      "transactions data for btctrd completed, 13 transactions found\n"
     ]
    }
   ],
   "source": [
    "transactions.process_btctrd_data()"
   ]
  },
  {
   "cell_type": "code",
   "execution_count": null,
   "id": "7f472d9a",
   "metadata": {},
   "outputs": [],
   "source": []
  }
 ],
 "metadata": {
  "kernelspec": {
   "display_name": "Python 3 (ipykernel)",
   "language": "python",
   "name": "python3"
  },
  "language_info": {
   "codemirror_mode": {
    "name": "ipython",
    "version": 3
   },
   "file_extension": ".py",
   "mimetype": "text/x-python",
   "name": "python",
   "nbconvert_exporter": "python",
   "pygments_lexer": "ipython3",
   "version": "3.9.10"
  }
 },
 "nbformat": 4,
 "nbformat_minor": 5
}
