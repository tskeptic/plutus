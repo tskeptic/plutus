{
 "cells": [
  {
   "cell_type": "code",
   "execution_count": 1,
   "id": "567907ab",
   "metadata": {},
   "outputs": [],
   "source": [
    "%load_ext autoreload\n",
    "%autoreload 2"
   ]
  },
  {
   "cell_type": "markdown",
   "id": "a6ef751c",
   "metadata": {},
   "source": [
    "-----"
   ]
  },
  {
   "cell_type": "markdown",
   "id": "b0176fa8",
   "metadata": {},
   "source": [
    "-----"
   ]
  },
  {
   "cell_type": "markdown",
   "id": "4dbda74e",
   "metadata": {},
   "source": [
    "-----"
   ]
  },
  {
   "cell_type": "code",
   "execution_count": 2,
   "id": "f4a446f9",
   "metadata": {},
   "outputs": [],
   "source": [
    "import transactions"
   ]
  },
  {
   "cell_type": "code",
   "execution_count": 3,
   "id": "1c333225",
   "metadata": {},
   "outputs": [
    {
     "name": "stdout",
     "output_type": "stream",
     "text": [
      "transactions data for btctrd completed, 13 transactions found\n",
      "transactions data for other sources completed, 2 transactions found\n"
     ]
    }
   ],
   "source": [
    "transactions.process_btctrd_data()\n",
    "transactions.process_other_sources_data()"
   ]
  },
  {
   "cell_type": "code",
   "execution_count": null,
   "id": "421d4f70",
   "metadata": {},
   "outputs": [],
   "source": []
  },
  {
   "cell_type": "markdown",
   "id": "af6bb061",
   "metadata": {},
   "source": [
    "-----"
   ]
  },
  {
   "cell_type": "markdown",
   "id": "ee2a32ec",
   "metadata": {},
   "source": [
    "-----"
   ]
  },
  {
   "cell_type": "markdown",
   "id": "36f85ed6",
   "metadata": {},
   "source": [
    "-----"
   ]
  },
  {
   "cell_type": "code",
   "execution_count": 2,
   "id": "74030e1e",
   "metadata": {},
   "outputs": [],
   "source": [
    "# local\n",
    "import gatherer\n",
    "import lister"
   ]
  },
  {
   "cell_type": "code",
   "execution_count": 3,
   "id": "e5d51a66",
   "metadata": {},
   "outputs": [
    {
     "name": "stdout",
     "output_type": "stream",
     "text": [
      "pairs not available: {'GETMATIC', 'GETUSDT'}\n"
     ]
    },
    {
     "data": {
      "text/plain": [
       "(5, ['BTCBRL', 'BTCUSDT', 'ETHBRL'])"
      ]
     },
     "execution_count": 3,
     "metadata": {},
     "output_type": "execute_result"
    }
   ],
   "source": [
    "# list of tickers/trading-pairs to obtain data\n",
    "pairs_to_follow = lister.prepare_target_pairs()\n",
    "len(pairs_to_follow), pairs_to_follow[:3]"
   ]
  },
  {
   "cell_type": "code",
   "execution_count": 4,
   "id": "23297bd9",
   "metadata": {},
   "outputs": [
    {
     "name": "stdout",
     "output_type": "stream",
     "text": [
      "obtaining data for BTCBRL\n"
     ]
    },
    {
     "name": "stderr",
     "output_type": "stream",
     "text": [
      "100%|█████████████████████████████████| 13/13 [00:12<00:00,  1.04it/s]\n"
     ]
    },
    {
     "name": "stdout",
     "output_type": "stream",
     "text": [
      "0 new rows of data obtained, 13 operations failed {404: ['2022-02', '2020-10-01', '2020-10-02', '2020-10-03', '2020-10-04', '2020-10-05', '2020-10-06', '2020-10-07', '2020-10-08', '2020-10-09', '2020-10-10', '2020-10-11', '2020-10-12']}\n",
      "obtaining data for BTCUSDT\n"
     ]
    },
    {
     "name": "stderr",
     "output_type": "stream",
     "text": [
      "100%|███████████████████████████████████| 1/1 [00:00<00:00,  3.40it/s]\n"
     ]
    },
    {
     "name": "stdout",
     "output_type": "stream",
     "text": [
      "0 new rows of data obtained, 1 operations failed {404: ['2022-02']}\n",
      "obtaining data for ETHBRL\n"
     ]
    },
    {
     "name": "stderr",
     "output_type": "stream",
     "text": [
      "0it [00:00, ?it/s]\n"
     ]
    },
    {
     "name": "stdout",
     "output_type": "stream",
     "text": [
      "0 new rows of data obtained, 0 operations failed \n",
      "obtaining data for ETHUSDT\n"
     ]
    },
    {
     "name": "stderr",
     "output_type": "stream",
     "text": [
      "100%|█████████████████████████████████| 26/26 [00:22<00:00,  1.14it/s]\n"
     ]
    },
    {
     "name": "stdout",
     "output_type": "stream",
     "text": [
      "762 new rows of data obtained, 1 operations failed {404: ['2022-02']}\n",
      "obtaining data for USDTBRL\n"
     ]
    },
    {
     "name": "stderr",
     "output_type": "stream",
     "text": [
      "100%|█████████████████████████████████| 26/26 [00:22<00:00,  1.15it/s]"
     ]
    },
    {
     "name": "stdout",
     "output_type": "stream",
     "text": [
      "unavailability registered for USDTBRL : [['2020-01-01', '2020-09-30']]\n",
      "476 new rows of data obtained, 10 operations failed {404: ['2020-01', '2020-02', '2020-03', '2020-04', '2020-05', '2020-06', '2020-07', '2020-08', '2020-09', '2022-02']}\n"
     ]
    },
    {
     "name": "stderr",
     "output_type": "stream",
     "text": [
      "\n"
     ]
    }
   ],
   "source": [
    "# obtaining/updating data\n",
    "for target_pair in pairs_to_follow:\n",
    "    print(f'obtaining data for {target_pair}')\n",
    "    gatherer.update_ticker_data(target_pair)"
   ]
  },
  {
   "cell_type": "code",
   "execution_count": null,
   "id": "cf9eb0d0",
   "metadata": {},
   "outputs": [],
   "source": []
  }
 ],
 "metadata": {
  "kernelspec": {
   "display_name": "Python 3 (ipykernel)",
   "language": "python",
   "name": "python3"
  },
  "language_info": {
   "codemirror_mode": {
    "name": "ipython",
    "version": 3
   },
   "file_extension": ".py",
   "mimetype": "text/x-python",
   "name": "python",
   "nbconvert_exporter": "python",
   "pygments_lexer": "ipython3",
   "version": "3.9.10"
  }
 },
 "nbformat": 4,
 "nbformat_minor": 5
}
