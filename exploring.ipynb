{
 "cells": [
  {
   "cell_type": "code",
   "execution_count": 1,
   "id": "46d98dff",
   "metadata": {},
   "outputs": [],
   "source": [
    "%load_ext autoreload\n",
    "%autoreload 2"
   ]
  },
  {
   "cell_type": "code",
   "execution_count": 2,
   "id": "12a7005d",
   "metadata": {},
   "outputs": [],
   "source": [
    "# local\n",
    "import gatherer"
   ]
  },
  {
   "cell_type": "code",
   "execution_count": 3,
   "id": "97af39fb",
   "metadata": {},
   "outputs": [
    {
     "data": {
      "text/plain": [
       "['MATICBRL', 'ETHBRL']"
      ]
     },
     "execution_count": 3,
     "metadata": {},
     "output_type": "execute_result"
    }
   ],
   "source": [
    "# list of tickers/trading-pairs to obtain data\n",
    "# TODO: collect from data file or transactions or something\n",
    "pairs_to_follow = ['MATICBRL', 'ETHBRL']\n",
    "pairs_to_follow"
   ]
  },
  {
   "cell_type": "code",
   "execution_count": 4,
   "id": "e1e20c54",
   "metadata": {},
   "outputs": [
    {
     "name": "stdout",
     "output_type": "stream",
     "text": [
      "obtaining data for MATICBRL\n"
     ]
    },
    {
     "name": "stderr",
     "output_type": "stream",
     "text": [
      "  4%|█▎                                | 1/26 [00:01<00:28,  1.13s/it]"
     ]
    },
    {
     "name": "stdout",
     "output_type": "stream",
     "text": [
      "file not found: https://data.binance.vision/data/spot/monthly/klines/MATICBRL/1d/MATICBRL-1d-2020-01.zip\n"
     ]
    },
    {
     "name": "stderr",
     "output_type": "stream",
     "text": [
      "  8%|██▌                               | 2/26 [00:02<00:26,  1.09s/it]"
     ]
    },
    {
     "name": "stdout",
     "output_type": "stream",
     "text": [
      "file not found: https://data.binance.vision/data/spot/monthly/klines/MATICBRL/1d/MATICBRL-1d-2020-02.zip\n"
     ]
    },
    {
     "name": "stderr",
     "output_type": "stream",
     "text": [
      " 12%|███▉                              | 3/26 [00:03<00:24,  1.08s/it]"
     ]
    },
    {
     "name": "stdout",
     "output_type": "stream",
     "text": [
      "file not found: https://data.binance.vision/data/spot/monthly/klines/MATICBRL/1d/MATICBRL-1d-2020-03.zip\n"
     ]
    },
    {
     "name": "stderr",
     "output_type": "stream",
     "text": [
      " 15%|█████▏                            | 4/26 [00:04<00:23,  1.08s/it]"
     ]
    },
    {
     "name": "stdout",
     "output_type": "stream",
     "text": [
      "file not found: https://data.binance.vision/data/spot/monthly/klines/MATICBRL/1d/MATICBRL-1d-2020-04.zip\n"
     ]
    },
    {
     "name": "stderr",
     "output_type": "stream",
     "text": [
      " 19%|██████▌                           | 5/26 [00:05<00:22,  1.08s/it]"
     ]
    },
    {
     "name": "stdout",
     "output_type": "stream",
     "text": [
      "file not found: https://data.binance.vision/data/spot/monthly/klines/MATICBRL/1d/MATICBRL-1d-2020-05.zip\n"
     ]
    },
    {
     "name": "stderr",
     "output_type": "stream",
     "text": [
      " 23%|███████▊                          | 6/26 [00:06<00:21,  1.08s/it]"
     ]
    },
    {
     "name": "stdout",
     "output_type": "stream",
     "text": [
      "file not found: https://data.binance.vision/data/spot/monthly/klines/MATICBRL/1d/MATICBRL-1d-2020-06.zip\n"
     ]
    },
    {
     "name": "stderr",
     "output_type": "stream",
     "text": [
      " 27%|█████████▏                        | 7/26 [00:07<00:20,  1.08s/it]"
     ]
    },
    {
     "name": "stdout",
     "output_type": "stream",
     "text": [
      "file not found: https://data.binance.vision/data/spot/monthly/klines/MATICBRL/1d/MATICBRL-1d-2020-07.zip\n"
     ]
    },
    {
     "name": "stderr",
     "output_type": "stream",
     "text": [
      " 31%|██████████▍                       | 8/26 [00:08<00:19,  1.08s/it]"
     ]
    },
    {
     "name": "stdout",
     "output_type": "stream",
     "text": [
      "file not found: https://data.binance.vision/data/spot/monthly/klines/MATICBRL/1d/MATICBRL-1d-2020-08.zip\n"
     ]
    },
    {
     "name": "stderr",
     "output_type": "stream",
     "text": [
      " 35%|███████████▊                      | 9/26 [00:09<00:18,  1.08s/it]"
     ]
    },
    {
     "name": "stdout",
     "output_type": "stream",
     "text": [
      "file not found: https://data.binance.vision/data/spot/monthly/klines/MATICBRL/1d/MATICBRL-1d-2020-09.zip\n"
     ]
    },
    {
     "name": "stderr",
     "output_type": "stream",
     "text": [
      " 38%|████████████▋                    | 10/26 [00:10<00:13,  1.19it/s]"
     ]
    },
    {
     "name": "stdout",
     "output_type": "stream",
     "text": [
      "file not found: https://data.binance.vision/data/spot/monthly/klines/MATICBRL/1d/MATICBRL-1d-2020-10.zip\n"
     ]
    },
    {
     "name": "stderr",
     "output_type": "stream",
     "text": [
      " 42%|█████████████▉                   | 11/26 [00:10<00:10,  1.47it/s]"
     ]
    },
    {
     "name": "stdout",
     "output_type": "stream",
     "text": [
      "file not found: https://data.binance.vision/data/spot/monthly/klines/MATICBRL/1d/MATICBRL-1d-2020-11.zip\n"
     ]
    },
    {
     "name": "stderr",
     "output_type": "stream",
     "text": [
      " 46%|███████████████▏                 | 12/26 [00:11<00:11,  1.24it/s]"
     ]
    },
    {
     "name": "stdout",
     "output_type": "stream",
     "text": [
      "file not found: https://data.binance.vision/data/spot/monthly/klines/MATICBRL/1d/MATICBRL-1d-2020-12.zip\n"
     ]
    },
    {
     "name": "stderr",
     "output_type": "stream",
     "text": [
      " 50%|████████████████▌                | 13/26 [00:12<00:11,  1.12it/s]"
     ]
    },
    {
     "name": "stdout",
     "output_type": "stream",
     "text": [
      "file not found: https://data.binance.vision/data/spot/monthly/klines/MATICBRL/1d/MATICBRL-1d-2021-01.zip\n"
     ]
    },
    {
     "name": "stderr",
     "output_type": "stream",
     "text": [
      " 54%|█████████████████▊               | 14/26 [00:13<00:11,  1.05it/s]"
     ]
    },
    {
     "name": "stdout",
     "output_type": "stream",
     "text": [
      "file not found: https://data.binance.vision/data/spot/monthly/klines/MATICBRL/1d/MATICBRL-1d-2021-02.zip\n"
     ]
    },
    {
     "name": "stderr",
     "output_type": "stream",
     "text": [
      " 58%|███████████████████              | 15/26 [00:13<00:08,  1.32it/s]"
     ]
    },
    {
     "name": "stdout",
     "output_type": "stream",
     "text": [
      "file not found: https://data.binance.vision/data/spot/monthly/klines/MATICBRL/1d/MATICBRL-1d-2021-03.zip\n"
     ]
    },
    {
     "name": "stderr",
     "output_type": "stream",
     "text": [
      " 62%|████████████████████▎            | 16/26 [00:15<00:08,  1.16it/s]"
     ]
    },
    {
     "name": "stdout",
     "output_type": "stream",
     "text": [
      "file not found: https://data.binance.vision/data/spot/monthly/klines/MATICBRL/1d/MATICBRL-1d-2021-04.zip\n"
     ]
    },
    {
     "name": "stderr",
     "output_type": "stream",
     "text": [
      "100%|█████████████████████████████████| 26/26 [00:43<00:00,  1.67s/it]\n"
     ]
    },
    {
     "name": "stdout",
     "output_type": "stream",
     "text": [
      "274 new rows of data obtained, 16 operations failed ['2020-01', '2020-02', '2020-03', '2020-04', '2020-05', '2020-06', '2020-07', '2020-08', '2020-09', '2020-10', '2020-11', '2020-12', '2021-01', '2021-02', '2021-03', '2021-04']\n",
      "obtaining data for ETHBRL\n"
     ]
    },
    {
     "name": "stderr",
     "output_type": "stream",
     "text": [
      "  4%|█▎                                | 1/26 [00:01<00:26,  1.08s/it]"
     ]
    },
    {
     "name": "stdout",
     "output_type": "stream",
     "text": [
      "file not found: https://data.binance.vision/data/spot/monthly/klines/ETHBRL/1d/ETHBRL-1d-2020-01.zip\n"
     ]
    },
    {
     "name": "stderr",
     "output_type": "stream",
     "text": [
      "  8%|██▌                               | 2/26 [00:02<00:25,  1.08s/it]"
     ]
    },
    {
     "name": "stdout",
     "output_type": "stream",
     "text": [
      "file not found: https://data.binance.vision/data/spot/monthly/klines/ETHBRL/1d/ETHBRL-1d-2020-02.zip\n"
     ]
    },
    {
     "name": "stderr",
     "output_type": "stream",
     "text": [
      " 12%|███▉                              | 3/26 [00:03<00:24,  1.08s/it]"
     ]
    },
    {
     "name": "stdout",
     "output_type": "stream",
     "text": [
      "file not found: https://data.binance.vision/data/spot/monthly/klines/ETHBRL/1d/ETHBRL-1d-2020-03.zip\n"
     ]
    },
    {
     "name": "stderr",
     "output_type": "stream",
     "text": [
      " 15%|█████▏                            | 4/26 [00:04<00:24,  1.10s/it]"
     ]
    },
    {
     "name": "stdout",
     "output_type": "stream",
     "text": [
      "file not found: https://data.binance.vision/data/spot/monthly/klines/ETHBRL/1d/ETHBRL-1d-2020-04.zip\n"
     ]
    },
    {
     "name": "stderr",
     "output_type": "stream",
     "text": [
      " 19%|██████▌                           | 5/26 [00:05<00:23,  1.10s/it]"
     ]
    },
    {
     "name": "stdout",
     "output_type": "stream",
     "text": [
      "file not found: https://data.binance.vision/data/spot/monthly/klines/ETHBRL/1d/ETHBRL-1d-2020-05.zip\n"
     ]
    },
    {
     "name": "stderr",
     "output_type": "stream",
     "text": [
      " 23%|███████▊                          | 6/26 [00:05<00:16,  1.20it/s]"
     ]
    },
    {
     "name": "stdout",
     "output_type": "stream",
     "text": [
      "file not found: https://data.binance.vision/data/spot/monthly/klines/ETHBRL/1d/ETHBRL-1d-2020-06.zip\n"
     ]
    },
    {
     "name": "stderr",
     "output_type": "stream",
     "text": [
      " 27%|█████████▏                        | 7/26 [00:06<00:17,  1.09it/s]"
     ]
    },
    {
     "name": "stdout",
     "output_type": "stream",
     "text": [
      "file not found: https://data.binance.vision/data/spot/monthly/klines/ETHBRL/1d/ETHBRL-1d-2020-07.zip\n"
     ]
    },
    {
     "name": "stderr",
     "output_type": "stream",
     "text": [
      " 31%|██████████▍                       | 8/26 [00:07<00:13,  1.37it/s]"
     ]
    },
    {
     "name": "stdout",
     "output_type": "stream",
     "text": [
      "file not found: https://data.binance.vision/data/spot/monthly/klines/ETHBRL/1d/ETHBRL-1d-2020-08.zip\n"
     ]
    },
    {
     "name": "stderr",
     "output_type": "stream",
     "text": [
      " 35%|███████████▊                      | 9/26 [00:07<00:10,  1.66it/s]"
     ]
    },
    {
     "name": "stdout",
     "output_type": "stream",
     "text": [
      "file not found: https://data.binance.vision/data/spot/monthly/klines/ETHBRL/1d/ETHBRL-1d-2020-09.zip\n"
     ]
    },
    {
     "name": "stderr",
     "output_type": "stream",
     "text": [
      "100%|█████████████████████████████████| 26/26 [00:42<00:00,  1.62s/it]"
     ]
    },
    {
     "name": "stdout",
     "output_type": "stream",
     "text": [
      "484 new rows of data obtained, 9 operations failed ['2020-01', '2020-02', '2020-03', '2020-04', '2020-05', '2020-06', '2020-07', '2020-08', '2020-09']\n"
     ]
    },
    {
     "name": "stderr",
     "output_type": "stream",
     "text": [
      "\n"
     ]
    }
   ],
   "source": [
    "# obtaining/updating data\n",
    "for target_pair in pairs_to_follow:\n",
    "    print(f'obtaining data for {target_pair}')\n",
    "    gatherer.update_ticker_data(target_pair)"
   ]
  },
  {
   "cell_type": "code",
   "execution_count": null,
   "id": "4b434053",
   "metadata": {},
   "outputs": [],
   "source": []
  }
 ],
 "metadata": {
  "kernelspec": {
   "display_name": "Python 3 (ipykernel)",
   "language": "python",
   "name": "python3"
  },
  "language_info": {
   "codemirror_mode": {
    "name": "ipython",
    "version": 3
   },
   "file_extension": ".py",
   "mimetype": "text/x-python",
   "name": "python",
   "nbconvert_exporter": "python",
   "pygments_lexer": "ipython3",
   "version": "3.9.10"
  }
 },
 "nbformat": 4,
 "nbformat_minor": 5
}
