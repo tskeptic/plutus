{
 "cells": [
  {
   "cell_type": "code",
   "execution_count": null,
   "id": "f8d79385",
   "metadata": {},
   "outputs": [],
   "source": [
    "%load_ext autoreload\n",
    "%autoreload 2"
   ]
  },
  {
   "cell_type": "markdown",
   "id": "80023a33",
   "metadata": {},
   "source": [
    "-----"
   ]
  },
  {
   "cell_type": "markdown",
   "id": "f69583ec",
   "metadata": {},
   "source": [
    "-----"
   ]
  },
  {
   "cell_type": "markdown",
   "id": "8f716896",
   "metadata": {},
   "source": [
    "-----"
   ]
  },
  {
   "cell_type": "code",
   "execution_count": null,
   "id": "7ae37626",
   "metadata": {},
   "outputs": [],
   "source": [
    "import transactions"
   ]
  },
  {
   "cell_type": "code",
   "execution_count": null,
   "id": "c1614fef",
   "metadata": {},
   "outputs": [],
   "source": [
    "transactions.process_btctrd_data()\n",
    "transactions.process_other_sources_data()"
   ]
  },
  {
   "cell_type": "code",
   "execution_count": null,
   "id": "cc60a8a1",
   "metadata": {},
   "outputs": [],
   "source": []
  },
  {
   "cell_type": "markdown",
   "id": "b2698777",
   "metadata": {},
   "source": [
    "-----"
   ]
  },
  {
   "cell_type": "markdown",
   "id": "9530becd",
   "metadata": {},
   "source": [
    "-----"
   ]
  },
  {
   "cell_type": "markdown",
   "id": "36c46d23",
   "metadata": {},
   "source": [
    "-----"
   ]
  },
  {
   "cell_type": "code",
   "execution_count": null,
   "id": "8ec0b1b7",
   "metadata": {},
   "outputs": [],
   "source": [
    "# local\n",
    "import gatherer\n",
    "import lister"
   ]
  },
  {
   "cell_type": "code",
   "execution_count": null,
   "id": "f4236e4a",
   "metadata": {},
   "outputs": [],
   "source": [
    "# list of tickers/trading-pairs to obtain data\n",
    "pairs_to_follow = lister.prepare_target_pairs()\n",
    "len(pairs_to_follow), pairs_to_follow[:3]"
   ]
  },
  {
   "cell_type": "code",
   "execution_count": null,
   "id": "1ff8c2a7",
   "metadata": {},
   "outputs": [],
   "source": [
    "# obtaining/updating data\n",
    "for target_pair in pairs_to_follow:\n",
    "    print(f'obtaining data for {target_pair}')\n",
    "    gatherer.update_ticker_data(target_pair)"
   ]
  },
  {
   "cell_type": "code",
   "execution_count": null,
   "id": "f921378e",
   "metadata": {},
   "outputs": [],
   "source": []
  },
  {
   "cell_type": "code",
   "execution_count": null,
   "id": "65a8686f",
   "metadata": {},
   "outputs": [],
   "source": []
  },
  {
   "cell_type": "code",
   "execution_count": null,
   "id": "fc76ff2d",
   "metadata": {},
   "outputs": [],
   "source": []
  },
  {
   "cell_type": "code",
   "execution_count": null,
   "id": "284f44aa",
   "metadata": {},
   "outputs": [],
   "source": []
  },
  {
   "cell_type": "code",
   "execution_count": null,
   "id": "8b67c9b9",
   "metadata": {},
   "outputs": [],
   "source": []
  },
  {
   "cell_type": "code",
   "execution_count": null,
   "id": "46adc57f",
   "metadata": {},
   "outputs": [],
   "source": []
  },
  {
   "cell_type": "code",
   "execution_count": null,
   "id": "3218f09d",
   "metadata": {},
   "outputs": [],
   "source": []
  },
  {
   "cell_type": "code",
   "execution_count": null,
   "id": "d56ab836",
   "metadata": {},
   "outputs": [],
   "source": []
  }
 ],
 "metadata": {
  "kernelspec": {
   "display_name": "Python 3 (ipykernel)",
   "language": "python",
   "name": "python3"
  },
  "language_info": {
   "codemirror_mode": {
    "name": "ipython",
    "version": 3
   },
   "file_extension": ".py",
   "mimetype": "text/x-python",
   "name": "python",
   "nbconvert_exporter": "python",
   "pygments_lexer": "ipython3",
   "version": "3.9.10"
  }
 },
 "nbformat": 4,
 "nbformat_minor": 5
}
