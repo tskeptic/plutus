{
 "cells": [
  {
   "cell_type": "code",
   "execution_count": 1,
   "id": "0ade1e5f",
   "metadata": {},
   "outputs": [],
   "source": [
    "%load_ext autoreload\n",
    "%autoreload 2"
   ]
  },
  {
   "cell_type": "markdown",
   "id": "086a3b40",
   "metadata": {},
   "source": [
    "-----"
   ]
  },
  {
   "cell_type": "markdown",
   "id": "dffcf7d2",
   "metadata": {},
   "source": [
    "-----"
   ]
  },
  {
   "cell_type": "markdown",
   "id": "f02b5922",
   "metadata": {},
   "source": [
    "-----"
   ]
  },
  {
   "cell_type": "code",
   "execution_count": 2,
   "id": "9d999eeb",
   "metadata": {},
   "outputs": [],
   "source": [
    "# local\n",
    "import gatherer"
   ]
  },
  {
   "cell_type": "code",
   "execution_count": 3,
   "id": "af44ff7e",
   "metadata": {},
   "outputs": [
    {
     "data": {
      "text/plain": [
       "['MATICBRL', 'ETHBRL', 'BTCBRL']"
      ]
     },
     "execution_count": 3,
     "metadata": {},
     "output_type": "execute_result"
    }
   ],
   "source": [
    "# list of tickers/trading-pairs to obtain data\n",
    "# TODO: collect from data file or transactions or something\n",
    "pairs_to_follow = ['MATICBRL', 'ETHBRL', 'BTCBRL']\n",
    "pairs_to_follow"
   ]
  },
  {
   "cell_type": "code",
   "execution_count": 4,
   "id": "9add13ee",
   "metadata": {},
   "outputs": [
    {
     "name": "stdout",
     "output_type": "stream",
     "text": [
      "obtaining data for MATICBRL\n"
     ]
    },
    {
     "name": "stderr",
     "output_type": "stream",
     "text": [
      "100%|███████████████████████████████████| 1/1 [00:01<00:00,  1.13s/it]\n"
     ]
    },
    {
     "name": "stdout",
     "output_type": "stream",
     "text": [
      "1 new rows of data obtained, 0 operations failed \n",
      "obtaining data for ETHBRL\n"
     ]
    },
    {
     "name": "stderr",
     "output_type": "stream",
     "text": [
      "100%|███████████████████████████████████| 1/1 [00:01<00:00,  1.09s/it]\n"
     ]
    },
    {
     "name": "stdout",
     "output_type": "stream",
     "text": [
      "1 new rows of data obtained, 0 operations failed \n",
      "obtaining data for BTCBRL\n"
     ]
    },
    {
     "name": "stderr",
     "output_type": "stream",
     "text": [
      "100%|█████████████████████████████████| 26/26 [00:24<00:00,  1.06it/s]"
     ]
    },
    {
     "name": "stdout",
     "output_type": "stream",
     "text": [
      "unavailability registered for BTCBRL : [['2020-01-01', '2020-09-30']]\n",
      "476 new rows of data obtained, 10 operations failed {404: ['2020-01', '2020-02', '2020-03', '2020-04', '2020-05', '2020-06', '2020-07', '2020-08', '2020-09', '2022-02']}\n"
     ]
    },
    {
     "name": "stderr",
     "output_type": "stream",
     "text": [
      "\n"
     ]
    }
   ],
   "source": [
    "# obtaining/updating data\n",
    "for target_pair in pairs_to_follow:\n",
    "    print(f'obtaining data for {target_pair}')\n",
    "    gatherer.update_ticker_data(target_pair)"
   ]
  },
  {
   "cell_type": "code",
   "execution_count": null,
   "id": "3e7410c9",
   "metadata": {},
   "outputs": [],
   "source": []
  },
  {
   "cell_type": "markdown",
   "id": "b6e6346c",
   "metadata": {},
   "source": [
    "-----"
   ]
  },
  {
   "cell_type": "markdown",
   "id": "27fc79a1",
   "metadata": {},
   "source": [
    "-----"
   ]
  },
  {
   "cell_type": "markdown",
   "id": "f30d507c",
   "metadata": {},
   "source": [
    "-----"
   ]
  },
  {
   "cell_type": "code",
   "execution_count": 2,
   "id": "e7b5bec4",
   "metadata": {},
   "outputs": [],
   "source": [
    "import transactions"
   ]
  },
  {
   "cell_type": "code",
   "execution_count": 3,
   "id": "d919ad5b",
   "metadata": {},
   "outputs": [
    {
     "name": "stdout",
     "output_type": "stream",
     "text": [
      "transactions data for btctrd completed, 13 transactions found\n",
      "transactions data for other sources completed, 2 transactions found\n"
     ]
    }
   ],
   "source": [
    "transactions.process_btctrd_data()\n",
    "transactions.process_other_sources_data()"
   ]
  },
  {
   "cell_type": "code",
   "execution_count": null,
   "id": "aa1e8881",
   "metadata": {},
   "outputs": [],
   "source": []
  }
 ],
 "metadata": {
  "kernelspec": {
   "display_name": "Python 3 (ipykernel)",
   "language": "python",
   "name": "python3"
  },
  "language_info": {
   "codemirror_mode": {
    "name": "ipython",
    "version": 3
   },
   "file_extension": ".py",
   "mimetype": "text/x-python",
   "name": "python",
   "nbconvert_exporter": "python",
   "pygments_lexer": "ipython3",
   "version": "3.9.10"
  }
 },
 "nbformat": 4,
 "nbformat_minor": 5
}
